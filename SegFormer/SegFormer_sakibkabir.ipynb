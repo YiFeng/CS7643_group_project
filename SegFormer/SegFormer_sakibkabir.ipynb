{
  "cells": [
    {
      "cell_type": "code",
      "execution_count": null,
      "metadata": {
        "colab": {
          "base_uri": "https://localhost:8080/"
        },
        "id": "rRk3ZytW6NDn",
        "outputId": "0ff95ac8-bfb6-41e9-fccf-a803e9da1428"
      },
      "outputs": [
        {
          "name": "stdout",
          "output_type": "stream",
          "text": [
            "Mounted at /content/drive\n"
          ]
        }
      ],
      "source": [
        "from google.colab import drive\n",
        "drive.mount('/content/drive')"
      ]
    },
    {
      "cell_type": "code",
      "execution_count": null,
      "metadata": {
        "id": "GIgHzl_x5F0F"
      },
      "outputs": [],
      "source": [
        "import os\n",
        "import random\n",
        "import numpy as np\n",
        "import torch\n",
        "import torch.nn as nn\n",
        "import torchvision.transforms as T\n",
        "import matplotlib.pyplot as plt\n",
        "\n",
        "from torch.utils.data import Dataset, DataLoader, WeightedRandomSampler\n",
        "from PIL import Image\n",
        "from glob import glob\n",
        "from tqdm import tqdm\n",
        "from sklearn.model_selection import train_test_split\n",
        "from collections import Counter\n",
        "\n",
        "import albumentations as A\n",
        "from albumentations.pytorch import ToTensorV2\n",
        "\n",
        "from transformers import SegformerForSemanticSegmentation, SegformerFeatureExtractor"
      ]
    },
    {
      "cell_type": "code",
      "execution_count": null,
      "metadata": {
        "colab": {
          "base_uri": "https://localhost:8080/"
        },
        "id": "3FodzrCh5F0F",
        "outputId": "26656ac6-25d2-412a-bc3b-51ff0e1471c6"
      },
      "outputs": [
        {
          "name": "stdout",
          "output_type": "stream",
          "text": [
            "Using device: cuda\n"
          ]
        }
      ],
      "source": [
        "# --- Config ---\n",
        "NUM_CLASSES = 7\n",
        "IMAGE_SIZE = (512, 512)\n",
        "BATCH_SIZE = 4\n",
        "EPOCHS = 30\n",
        "PATIENCE = 5\n",
        "\n",
        "# For AdamW optimizer\n",
        "LEARNING_RATE = 1e-4\n",
        "WEIGHT_Decay = 0.1\n",
        "Beta1 = 0.95\n",
        "Beta2 = 0.9999\n",
        "\n",
        "# Learning rate schedular ReduceLROnPlateau\n",
        "lrS_patience = 5\n",
        "lrS_factor = 0.1 # 0.5\n",
        "\n",
        "DEVICE = 'cuda' if torch.cuda.is_available() else 'cpu'\n",
        "print(\"Using device:\", DEVICE)"
      ]
    },
    {
      "cell_type": "code",
      "execution_count": null,
      "metadata": {
        "id": "Ji8-b_975F0F"
      },
      "outputs": [],
      "source": [
        "# RGB to Class Mapping\n",
        "rgb_to_class = {\n",
        "    (0, 255, 255): 0,     # urbanland\n",
        "    (255, 255, 0): 1,     # agricultureland\n",
        "    (255, 0, 255): 2,     # rangeland\n",
        "    (0, 255, 0): 3,       # forestland\n",
        "    (0, 0, 255): 4,       # water\n",
        "    (255, 255, 255): 5,   # barrenland\n",
        "    (0, 0, 0): 6,         # unknown\n",
        "\n",
        "}\n",
        "\n",
        "# Class to RGB Mapping for visualization\n",
        "class_to_rgb = {v: k for k, v in rgb_to_class.items()}"
      ]
    },
    {
      "cell_type": "code",
      "execution_count": null,
      "metadata": {
        "id": "eShDH9WG5F0F"
      },
      "outputs": [],
      "source": [
        "def rgb_mask_to_class(mask):\n",
        "    \"\"\"Convert RGB mask to 2D class index mask.\"\"\"\n",
        "    mask = np.array(mask)\n",
        "    class_mask = np.zeros(mask.shape[:2], dtype=np.uint8)\n",
        "    for rgb, idx in rgb_to_class.items():\n",
        "        class_mask[(mask == rgb).all(axis=-1)] = idx\n",
        "    return class_mask"
      ]
    },
    {
      "cell_type": "code",
      "execution_count": null,
      "metadata": {
        "colab": {
          "base_uri": "https://localhost:8080/"
        },
        "id": "cjoTwv1r5F0G",
        "outputId": "d7f448a3-b194-46c1-b73c-4ff7c42754cd"
      },
      "outputs": [
        {
          "name": "stdout",
          "output_type": "stream",
          "text": [
            "Loaded 803 DeepGlobe images\n"
          ]
        }
      ],
      "source": [
        "# DeepGlobe Paths\n",
        "deepglobe_dir = \"/content/drive/MyDrive/Study_Related/MSCS_GeorgiaTech/CS_7643_Deep_Learning/Project/CS7643_Geospatial_Project/Dataset/DeepGlobe2018/train\"\n",
        "\n",
        "# Load DeepGlobe images and masks\n",
        "deepglobe_images = sorted(glob(os.path.join(deepglobe_dir, \"*.jpg\")))\n",
        "deepglobe_masks = sorted(glob(os.path.join(deepglobe_dir, \"*.png\")))\n",
        "\n",
        "print(f\"Loaded {len(deepglobe_images)} DeepGlobe images\")"
      ]
    },
    {
      "cell_type": "code",
      "execution_count": null,
      "metadata": {
        "colab": {
          "base_uri": "https://localhost:8080/"
        },
        "id": "Q5_5CGvA5F0G",
        "outputId": "5174dcce-0289-4cbf-b27b-4aadcd80fa7d"
      },
      "outputs": [
        {
          "name": "stdout",
          "output_type": "stream",
          "text": [
            "Train Set:\n",
            "  deepglobe: 642 images\n",
            "  Total: 642 images\n",
            "\n",
            "Validation Set:\n",
            "  deepglobe: 161 images\n",
            "  Total: 161 images\n",
            "\n"
          ]
        }
      ],
      "source": [
        "# Combine both datasets\n",
        "all_images = deepglobe_images\n",
        "all_masks = deepglobe_masks\n",
        "sources = ['deepglobe'] * len(deepglobe_images)\n",
        "\n",
        "# Train/Val Split (Stratified)\n",
        "train_imgs, val_imgs, train_masks, val_masks, train_sources, val_sources = train_test_split(\n",
        "    all_images, all_masks, sources, test_size=0.2, stratify=sources, random_state=42\n",
        ")\n",
        "\n",
        "# Utility to print split info\n",
        "def print_split_info(name, source_list):\n",
        "    counts = Counter(source_list)\n",
        "    print(f\"{name} Set:\")\n",
        "    for dataset, count in counts.items():\n",
        "        print(f\"  {dataset}: {count} images\")\n",
        "    print(f\"  Total: {len(source_list)} images\\n\")\n",
        "\n",
        "print_split_info(\"Train\", train_sources)\n",
        "print_split_info(\"Validation\", val_sources)"
      ]
    },
    {
      "cell_type": "code",
      "execution_count": null,
      "metadata": {
        "id": "4qoT_54k5F0G"
      },
      "outputs": [],
      "source": [
        "class SegmentationDataset(Dataset):\n",
        "    def __init__(self, image_paths, mask_paths, transform=None):\n",
        "        self.image_paths = image_paths\n",
        "        self.mask_paths = mask_paths\n",
        "        self.transform = transform\n",
        "\n",
        "    def __len__(self):\n",
        "        return len(self.image_paths)\n",
        "\n",
        "    def __getitem__(self, idx):\n",
        "        img = np.array(Image.open(self.image_paths[idx]).convert('RGB'))\n",
        "        mask = Image.open(self.mask_paths[idx]).convert('RGB')\n",
        "        mask = rgb_mask_to_class(mask)\n",
        "        if self.transform:\n",
        "            augmented = self.transform(image=img, mask=mask)\n",
        "            img = augmented['image']\n",
        "            mask = augmented['mask']\n",
        "        else:\n",
        "            img = T.ToTensor()(img)\n",
        "\n",
        "        return img.float(), mask.long()"
      ]
    },
    {
      "cell_type": "code",
      "execution_count": null,
      "metadata": {
        "id": "SRzwZ3jN5F0G"
      },
      "outputs": [],
      "source": [
        "# Albumentations transforms\n",
        "train_transform = A.Compose([\n",
        "    A.Resize(IMAGE_SIZE[0], IMAGE_SIZE[1]),\n",
        "    A.HorizontalFlip(p=0.5),\n",
        "    A.RandomRotate90(p=0.5),\n",
        "    A.Normalize(mean=(0.485, 0.456, 0.406),\n",
        "                std=(0.229, 0.224, 0.225)),\n",
        "    ToTensorV2()\n",
        "])\n",
        "\n",
        "val_transform = A.Compose([\n",
        "    A.Resize(IMAGE_SIZE[0], IMAGE_SIZE[1]),\n",
        "    A.Normalize(mean=(0.485, 0.456, 0.406),\n",
        "                std=(0.229, 0.224, 0.225)),\n",
        "    ToTensorV2()\n",
        "])"
      ]
    },
    {
      "cell_type": "code",
      "execution_count": null,
      "metadata": {
        "colab": {
          "base_uri": "https://localhost:8080/"
        },
        "id": "u2FkWNP45F0G",
        "outputId": "ed354dd1-4ccb-48d6-de00-a63226de6f95"
      },
      "outputs": [
        {
          "name": "stdout",
          "output_type": "stream",
          "text": [
            "Train batches: 161 | Val batches: 41\n"
          ]
        }
      ],
      "source": [
        "# Create datasets\n",
        "train_dataset = SegmentationDataset(train_imgs, train_masks, transform=train_transform)\n",
        "val_dataset = SegmentationDataset(val_imgs, val_masks, transform=val_transform)\n",
        "\n",
        "# Weighted sampling to balance smaller Dubai dataset\n",
        "source_counts = Counter(train_sources)\n",
        "weights = [1.0 / source_counts[src] for src in train_sources]\n",
        "train_sampler = WeightedRandomSampler(weights, num_samples=len(weights), replacement=True)\n",
        "\n",
        "# DataLoaders\n",
        "train_loader = DataLoader(train_dataset, batch_size=BATCH_SIZE, num_workers=2) #sampler=train_sampler\n",
        "val_loader = DataLoader(val_dataset, batch_size=BATCH_SIZE, shuffle=False, num_workers=2)\n",
        "\n",
        "print(f\"Train batches: {len(train_loader)} | Val batches: {len(val_loader)}\")"
      ]
    },
    {
      "cell_type": "code",
      "execution_count": null,
      "metadata": {
        "colab": {
          "base_uri": "https://localhost:8080/",
          "height": 341,
          "referenced_widgets": [
            "e2ddedc654ee4efaa1f7252eab1bb9dc",
            "2c19d48c9f31497e904e5238482915d0",
            "88e82c7d643f4304a5478f167fb9f125",
            "bf25ca02608645b290b7bed001209e5a",
            "0b119ab74b1742439ed77e2832ab8179",
            "4706c4b9006c41fc99e26f5a5bcc8da2",
            "93d74ab3d6154ca6a779ab6a2edbca44",
            "3accbacec02042bb81397f5bdc6639ea",
            "adf98be12abe43ba8db1b49fdc1b37a4",
            "3df66117d0c94571b8bcc22a5abded48",
            "2856a48c259e44f2827994e972a42c2d",
            "56f1e6dd0f834899af7aa7d9e71dc9c5",
            "bb4a96e7e19943b88d3e061a473a772f",
            "e28355f32a0a421abda397b1e09da4bb",
            "c527754e1cd442c6874425a3fbe5b025",
            "67fc9c02133e4dc7b2ff25a387299b64",
            "8d510d075b0b486ab1d26896314f3685",
            "3e5771bac1fc494f987ebaa7d9823744",
            "94e3fa0e70c24f0489637df508f9e0d3",
            "552644e6402f44e2a85b3d88e8893af3",
            "d18c40972940495492606374604df66c",
            "f4c97158fa3f43748cefe5da613f9ace",
            "c69f3deafd1b46869d5c8a1d53b41bda",
            "90f4fd42aa234b238be3348ea026f4fa",
            "9dda03e39c164a3a8d0aa39bc4e27ba9",
            "9e600ce7f2194851931bf1b7d14cc2e8",
            "867396a6711d4697b746b1139db71eaf",
            "da4b5a31fcf542309d784fda223df2a9",
            "0498ffcfb74f449b8ca4ba7f109d0264",
            "c6c9c008e9854c02aed799e5ba7af2bd",
            "3eaf2a0b23a34e1b86f184a3a33bb0e8",
            "2094aa793068402d9911f69bdf640b49",
            "bad054c39ad34a6899d455412126fdb6"
          ]
        },
        "id": "yXjCc0_p5F0H",
        "outputId": "7825922f-9840-45d5-9db3-0cf23198ae9f"
      },
      "outputs": [
        {
          "name": "stderr",
          "output_type": "stream",
          "text": [
            "/usr/local/lib/python3.11/dist-packages/huggingface_hub/utils/_auth.py:94: UserWarning: \n",
            "The secret `HF_TOKEN` does not exist in your Colab secrets.\n",
            "To authenticate with the Hugging Face Hub, create a token in your settings tab (https://huggingface.co/settings/tokens), set it as secret in your Google Colab and restart your session.\n",
            "You will be able to reuse this secret in all of your notebooks.\n",
            "Please note that authentication is recommended but still optional to access public models or datasets.\n",
            "  warnings.warn(\n"
          ]
        },
        {
          "data": {
            "application/vnd.jupyter.widget-view+json": {
              "model_id": "e2ddedc654ee4efaa1f7252eab1bb9dc",
              "version_major": 2,
              "version_minor": 0
            },
            "text/plain": [
              "config.json: 0.00B [00:00, ?B/s]"
            ]
          },
          "metadata": {},
          "output_type": "display_data"
        },
        {
          "data": {
            "application/vnd.jupyter.widget-view+json": {
              "model_id": "56f1e6dd0f834899af7aa7d9e71dc9c5",
              "version_major": 2,
              "version_minor": 0
            },
            "text/plain": [
              "pytorch_model.bin:   0%|          | 0.00/190M [00:00<?, ?B/s]"
            ]
          },
          "metadata": {},
          "output_type": "display_data"
        },
        {
          "data": {
            "application/vnd.jupyter.widget-view+json": {
              "model_id": "c69f3deafd1b46869d5c8a1d53b41bda",
              "version_major": 2,
              "version_minor": 0
            },
            "text/plain": [
              "model.safetensors:   0%|          | 0.00/189M [00:00<?, ?B/s]"
            ]
          },
          "metadata": {},
          "output_type": "display_data"
        },
        {
          "name": "stderr",
          "output_type": "stream",
          "text": [
            "Some weights of SegformerForSemanticSegmentation were not initialized from the model checkpoint at nvidia/segformer-b3-finetuned-ade-512-512 and are newly initialized because the shapes did not match:\n",
            "- decode_head.classifier.weight: found shape torch.Size([150, 768, 1, 1]) in the checkpoint and torch.Size([7, 768, 1, 1]) in the model instantiated\n",
            "- decode_head.classifier.bias: found shape torch.Size([150]) in the checkpoint and torch.Size([7]) in the model instantiated\n",
            "You should probably TRAIN this model on a down-stream task to be able to use it for predictions and inference.\n",
            "/usr/local/lib/python3.11/dist-packages/transformers/models/segformer/feature_extraction_segformer.py:30: FutureWarning: The class SegformerFeatureExtractor is deprecated and will be removed in version 5 of Transformers. Please use SegformerImageProcessor instead.\n",
            "  warnings.warn(\n"
          ]
        }
      ],
      "source": [
        "# Load Hugging Face Segformer-B3 model\n",
        "model = SegformerForSemanticSegmentation.from_pretrained(\n",
        "    \"nvidia/segformer-b3-finetuned-ade-512-512\",\n",
        "    num_labels=NUM_CLASSES,\n",
        "    ignore_mismatched_sizes=True\n",
        ").to(DEVICE)\n",
        "\n",
        "# Feature extractor (optional – you’re not using it directly now, but keep it for completeness)\n",
        "feature_extractor = SegformerFeatureExtractor(do_reduce_labels=False, size=IMAGE_SIZE)"
      ]
    },
    {
      "cell_type": "code",
      "execution_count": null,
      "metadata": {
        "colab": {
          "base_uri": "https://localhost:8080/",
          "height": 170,
          "referenced_widgets": [
            "f43749dab50a4c25a3e1685d01a18ddc",
            "3451f6f958944a7486dd634cf84483cd",
            "f9fbf8cee3a84439acb2cba17ffeb842",
            "309b5e03454049b7a66e0acf75fb96eb",
            "af62738370644e738ae5fba9f25edf8e",
            "39fbeaf6c7864166b3af45020ea0588c",
            "a16692817fcc4c508bf35cd0a3f789c7",
            "d585675aed874ea1ac096263d69d4701",
            "a15f9128cbac4612ac14523973fbfe53",
            "dae547bf8a254a2da99854244a93d8f9",
            "6c59820bdab2436687ac67053efd5765",
            "29ecc660b43e41e88af31deedcf468bb",
            "44e53c59b75d4eafaa6b960317d55010",
            "0e5bc09338864b00aaa55100a322d6f2",
            "e5b11b5613944f28a7f54ce268370a2d",
            "e4bdb7e856db40bba0e25a534b94605b",
            "ec78ce1f1d9d4763abde5ab9810c5c64",
            "53eab53dfaeb415cb69a575f44a201a4",
            "521eb9e6dffb46d1a6f4912b2702efba",
            "2495c767c9424f7ba596d3dc3b88c50c",
            "0189c40a9b1b4ba1ba3563aaf04d7b7f",
            "c0893bd41ec54584b004c1b7b3746d43"
          ]
        },
        "id": "4DVjUBKMdg5W",
        "outputId": "1fa88031-a4f8-4730-f4e4-fb52f060a089"
      },
      "outputs": [
        {
          "data": {
            "application/vnd.jupyter.widget-view+json": {
              "model_id": "f43749dab50a4c25a3e1685d01a18ddc",
              "version_major": 2,
              "version_minor": 0
            },
            "text/plain": [
              "config.json: 0.00B [00:00, ?B/s]"
            ]
          },
          "metadata": {},
          "output_type": "display_data"
        },
        {
          "data": {
            "application/vnd.jupyter.widget-view+json": {
              "model_id": "29ecc660b43e41e88af31deedcf468bb",
              "version_major": 2,
              "version_minor": 0
            },
            "text/plain": [
              "model.safetensors:   0%|          | 0.00/256M [00:00<?, ?B/s]"
            ]
          },
          "metadata": {},
          "output_type": "display_data"
        },
        {
          "name": "stderr",
          "output_type": "stream",
          "text": [
            "Some weights of SegformerForSemanticSegmentation were not initialized from the model checkpoint at nave1616/SegFormer-landcover-FT and are newly initialized because the shapes did not match:\n",
            "- decode_head.classifier.bias: found shape torch.Size([9]) in the checkpoint and torch.Size([7]) in the model instantiated\n",
            "- decode_head.classifier.weight: found shape torch.Size([9, 768, 1, 1]) in the checkpoint and torch.Size([7, 768, 1, 1]) in the model instantiated\n",
            "You should probably TRAIN this model on a down-stream task to be able to use it for predictions and inference.\n"
          ]
        }
      ],
      "source": [
        "# Load Hugging Face Segformer-B3 model\n",
        "model = SegformerForSemanticSegmentation.from_pretrained(\n",
        "    \"nave1616/SegFormer-landcover-FT\",\n",
        "    num_labels=NUM_CLASSES,\n",
        "    ignore_mismatched_sizes=True\n",
        ").to(DEVICE)"
      ]
    },
    {
      "cell_type": "code",
      "execution_count": null,
      "metadata": {
        "colab": {
          "base_uri": "https://localhost:8080/"
        },
        "id": "STUdtQFw5F0H",
        "outputId": "f198c3b3-d376-400f-ab08-43c848fbf54b"
      },
      "outputs": [
        {
          "data": {
            "text/plain": [
              "106"
            ]
          },
          "execution_count": 13,
          "metadata": {},
          "output_type": "execute_result"
        }
      ],
      "source": [
        "import gc\n",
        "torch.cuda.empty_cache()\n",
        "gc.collect()"
      ]
    },
    {
      "cell_type": "code",
      "execution_count": null,
      "metadata": {
        "id": "3-xJx_nR5F0H"
      },
      "outputs": [],
      "source": [
        "class DiceLoss(nn.Module):\n",
        "    def __init__(self, smooth=1e-6):\n",
        "        super(DiceLoss, self).__init__()\n",
        "        self.smooth = smooth\n",
        "\n",
        "    def forward(self, preds, targets):\n",
        "        preds = torch.softmax(preds, dim=1)\n",
        "        targets_one_hot = torch.nn.functional.one_hot(targets, NUM_CLASSES).permute(0, 3, 1, 2).float()\n",
        "\n",
        "        intersection = (preds * targets_one_hot).sum(dim=(2, 3))\n",
        "        union = preds.sum(dim=(2, 3)) + targets_one_hot.sum(dim=(2, 3))\n",
        "\n",
        "        dice = (2. * intersection + self.smooth) / (union + self.smooth)\n",
        "        return 1 - dice.mean()\n",
        "\n",
        "class FocalLoss(nn.Module):\n",
        "    def __init__(self, alpha=1, gamma=2):\n",
        "        super(FocalLoss, self).__init__()\n",
        "        self.alpha = alpha\n",
        "        self.gamma = gamma\n",
        "\n",
        "    def forward(self, preds, targets):\n",
        "        logpt = -torch.nn.functional.cross_entropy(preds, targets, reduction='none')\n",
        "        pt = torch.exp(logpt)\n",
        "        loss = -((1 - pt) ** self.gamma) * logpt\n",
        "        return loss.mean()\n",
        "\n",
        "class CombinedLoss(nn.Module):\n",
        "    def __init__(self, alpha=1, gamma=2):\n",
        "        super().__init__()\n",
        "        self.dice = DiceLoss()\n",
        "        self.focal = FocalLoss(alpha, gamma)\n",
        "\n",
        "    def forward(self, preds, targets):\n",
        "        return self.dice(preds, targets) + self.focal(preds, targets)\n"
      ]
    },
    {
      "cell_type": "code",
      "execution_count": null,
      "metadata": {
        "id": "3XUw54rO5F0H"
      },
      "outputs": [],
      "source": [
        "def compute_metrics(preds, targets, num_classes=NUM_CLASSES):\n",
        "    preds = torch.argmax(preds, dim=1).detach().cpu().numpy()\n",
        "    targets = targets.detach().cpu().numpy()\n",
        "\n",
        "    ious, f1s = [], []\n",
        "    correct, total = 0, 0\n",
        "\n",
        "    for cls in range(num_classes):\n",
        "        pred_cls = (preds == cls)\n",
        "        true_cls = (targets == cls)\n",
        "\n",
        "        intersection = (pred_cls & true_cls).sum()\n",
        "        union = (pred_cls | true_cls).sum()\n",
        "        if union > 0:\n",
        "            iou = intersection / union\n",
        "            ious.append(iou)\n",
        "        else:\n",
        "            ious.append(np.nan)\n",
        "\n",
        "        f1 = (2 * intersection) / (pred_cls.sum() + true_cls.sum() + 1e-6)\n",
        "        f1s.append(f1)\n",
        "\n",
        "        correct += (pred_cls == true_cls).sum()\n",
        "        total += true_cls.size\n",
        "\n",
        "    return {\n",
        "        \"Pixel Accuracy\": correct / total,\n",
        "        \"Mean IoU\": np.nanmean(ious),\n",
        "        \"Mean F1\": np.nanmean(f1s)\n",
        "    }"
      ]
    },
    {
      "cell_type": "code",
      "execution_count": null,
      "metadata": {
        "id": "HxgVQ-Qd5F0H"
      },
      "outputs": [],
      "source": [
        "def train_one_epoch(model, loader, optimizer, loss_fn):\n",
        "    model.train()\n",
        "    epoch_loss = 0\n",
        "    for imgs, masks in tqdm(loader, desc=\"Training\", leave=False):\n",
        "        imgs, masks = imgs.to(DEVICE), masks.to(DEVICE)\n",
        "        optimizer.zero_grad()\n",
        "        outputs = model(pixel_values=imgs).logits\n",
        "        outputs = torch.nn.functional.interpolate(outputs, size=masks.shape[1:], mode='bilinear', align_corners=False)\n",
        "        loss = loss_fn(outputs, masks)\n",
        "        loss.backward()\n",
        "        optimizer.step()\n",
        "        epoch_loss += loss.item()\n",
        "    return epoch_loss / len(loader)\n",
        "\n",
        "def validate_one_epoch(model, loader, loss_fn):\n",
        "    model.eval()\n",
        "    val_loss = 0\n",
        "    metrics_total = {\"Pixel Accuracy\": [], \"Mean IoU\": [], \"Mean F1\": []}\n",
        "\n",
        "    with torch.no_grad():\n",
        "        for imgs, masks in tqdm(loader, desc=\"Validation\", leave=False):\n",
        "            imgs, masks = imgs.to(DEVICE), masks.to(DEVICE)\n",
        "            outputs = model(pixel_values=imgs).logits\n",
        "            outputs = torch.nn.functional.interpolate(outputs, size=masks.shape[1:], mode='bilinear', align_corners=False)\n",
        "            loss = loss_fn(outputs, masks)\n",
        "            val_loss += loss.item()\n",
        "\n",
        "            metrics = compute_metrics(outputs, masks)\n",
        "            for k in metrics:\n",
        "                metrics_total[k].append(metrics[k])\n",
        "\n",
        "    avg_metrics = {k: np.mean(v) for k, v in metrics_total.items()}\n",
        "    return val_loss / len(loader), avg_metrics\n"
      ]
    },
    {
      "cell_type": "code",
      "execution_count": null,
      "metadata": {
        "colab": {
          "background_save": true,
          "base_uri": "https://localhost:8080/"
        },
        "id": "ht6DvxKQ5F0H",
        "outputId": "dc3ae753-8549-4dbd-d7da-cfbd5c8dea7c"
      },
      "outputs": [
        {
          "name": "stdout",
          "output_type": "stream",
          "text": [
            "\n",
            " Epoch 1/30\n"
          ]
        },
        {
          "name": "stderr",
          "output_type": "stream",
          "text": [
            ""
          ]
        },
        {
          "name": "stdout",
          "output_type": "stream",
          "text": [
            "Train Loss: 1.3436 | Val Loss: 1.0875\n",
            "Pixel Accuracy: 0.9480\n",
            "Mean IoU: 0.4318\n",
            "Mean F1: 0.4502\n",
            "Best model saved!\n",
            "\n",
            " Epoch 2/30\n"
          ]
        },
        {
          "name": "stderr",
          "output_type": "stream",
          "text": [
            ""
          ]
        },
        {
          "name": "stdout",
          "output_type": "stream",
          "text": [
            "Train Loss: 1.0302 | Val Loss: 1.0071\n",
            "Pixel Accuracy: 0.9554\n",
            "Mean IoU: 0.4640\n",
            "Mean F1: 0.4759\n",
            "Best model saved!\n",
            "\n",
            " Epoch 3/30\n"
          ]
        },
        {
          "name": "stderr",
          "output_type": "stream",
          "text": [
            ""
          ]
        },
        {
          "name": "stdout",
          "output_type": "stream",
          "text": [
            "Train Loss: 0.9302 | Val Loss: 1.0040\n",
            "Pixel Accuracy: 0.9561\n",
            "Mean IoU: 0.4971\n",
            "Mean F1: 0.5041\n",
            "Best model saved!\n",
            "\n",
            " Epoch 4/30\n"
          ]
        },
        {
          "name": "stderr",
          "output_type": "stream",
          "text": [
            ""
          ]
        },
        {
          "name": "stdout",
          "output_type": "stream",
          "text": [
            "Train Loss: 0.8755 | Val Loss: 1.0446\n",
            "Pixel Accuracy: 0.9513\n",
            "Mean IoU: 0.4763\n",
            "Mean F1: 0.4924\n",
            "\n",
            " Epoch 5/30\n"
          ]
        },
        {
          "name": "stderr",
          "output_type": "stream",
          "text": [
            ""
          ]
        },
        {
          "name": "stdout",
          "output_type": "stream",
          "text": [
            "Train Loss: 0.8449 | Val Loss: 1.0229\n",
            "Pixel Accuracy: 0.9555\n",
            "Mean IoU: 0.4792\n",
            "Mean F1: 0.4878\n",
            "\n",
            " Epoch 6/30\n"
          ]
        },
        {
          "name": "stderr",
          "output_type": "stream",
          "text": [
            ""
          ]
        },
        {
          "name": "stdout",
          "output_type": "stream",
          "text": [
            "Train Loss: 0.8168 | Val Loss: 1.0183\n",
            "Pixel Accuracy: 0.9557\n",
            "Mean IoU: 0.5151\n",
            "Mean F1: 0.5181\n",
            "Best model saved!\n",
            "\n",
            " Epoch 7/30\n"
          ]
        },
        {
          "name": "stderr",
          "output_type": "stream",
          "text": [
            ""
          ]
        },
        {
          "name": "stdout",
          "output_type": "stream",
          "text": [
            "Train Loss: 0.7846 | Val Loss: 1.0132\n",
            "Pixel Accuracy: 0.9575\n",
            "Mean IoU: 0.5152\n",
            "Mean F1: 0.5164\n",
            "Best model saved!\n",
            "\n",
            " Epoch 8/30\n"
          ]
        },
        {
          "name": "stderr",
          "output_type": "stream",
          "text": [
            ""
          ]
        },
        {
          "name": "stdout",
          "output_type": "stream",
          "text": [
            "Train Loss: 0.7550 | Val Loss: 1.0315\n",
            "Pixel Accuracy: 0.9582\n",
            "Mean IoU: 0.5202\n",
            "Mean F1: 0.5182\n",
            "Best model saved!\n",
            "\n",
            " Epoch 9/30\n"
          ]
        },
        {
          "name": "stderr",
          "output_type": "stream",
          "text": [
            ""
          ]
        },
        {
          "name": "stdout",
          "output_type": "stream",
          "text": [
            "Train Loss: 0.7279 | Val Loss: 1.0483\n",
            "Pixel Accuracy: 0.9585\n",
            "Mean IoU: 0.5113\n",
            "Mean F1: 0.5196\n",
            "\n",
            " Epoch 10/30\n"
          ]
        },
        {
          "name": "stderr",
          "output_type": "stream",
          "text": [
            ""
          ]
        },
        {
          "name": "stdout",
          "output_type": "stream",
          "text": [
            "Train Loss: 0.7075 | Val Loss: 0.9606\n",
            "Pixel Accuracy: 0.9619\n",
            "Mean IoU: 0.5418\n",
            "Mean F1: 0.5457\n",
            "Best model saved!\n",
            "\n",
            " Epoch 11/30\n"
          ]
        },
        {
          "name": "stderr",
          "output_type": "stream",
          "text": [
            ""
          ]
        },
        {
          "name": "stdout",
          "output_type": "stream",
          "text": [
            "Train Loss: 0.6909 | Val Loss: 0.9617\n",
            "Pixel Accuracy: 0.9622\n",
            "Mean IoU: 0.5408\n",
            "Mean F1: 0.5456\n",
            "\n",
            " Epoch 12/30\n"
          ]
        },
        {
          "name": "stderr",
          "output_type": "stream",
          "text": [
            ""
          ]
        },
        {
          "name": "stdout",
          "output_type": "stream",
          "text": [
            "Train Loss: 0.6836 | Val Loss: 0.9637\n",
            "Pixel Accuracy: 0.9626\n",
            "Mean IoU: 0.5414\n",
            "Mean F1: 0.5461\n",
            "\n",
            " Epoch 13/30\n"
          ]
        },
        {
          "name": "stderr",
          "output_type": "stream",
          "text": [
            ""
          ]
        },
        {
          "name": "stdout",
          "output_type": "stream",
          "text": [
            "Train Loss: 0.6781 | Val Loss: 0.9675\n",
            "Pixel Accuracy: 0.9627\n",
            "Mean IoU: 0.5426\n",
            "Mean F1: 0.5464\n",
            "Best model saved!\n",
            "\n",
            " Epoch 14/30\n"
          ]
        },
        {
          "name": "stderr",
          "output_type": "stream",
          "text": [
            ""
          ]
        },
        {
          "name": "stdout",
          "output_type": "stream",
          "text": [
            "Train Loss: 0.6735 | Val Loss: 0.9724\n",
            "Pixel Accuracy: 0.9625\n",
            "Mean IoU: 0.5406\n",
            "Mean F1: 0.5451\n",
            "\n",
            " Epoch 15/30\n"
          ]
        },
        {
          "name": "stderr",
          "output_type": "stream",
          "text": [
            ""
          ]
        },
        {
          "name": "stdout",
          "output_type": "stream",
          "text": [
            "Train Loss: 0.6691 | Val Loss: 0.9802\n",
            "Pixel Accuracy: 0.9624\n",
            "Mean IoU: 0.5401\n",
            "Mean F1: 0.5438\n",
            "\n",
            " Epoch 16/30\n"
          ]
        },
        {
          "name": "stderr",
          "output_type": "stream",
          "text": [
            ""
          ]
        },
        {
          "name": "stdout",
          "output_type": "stream",
          "text": [
            "Train Loss: 0.6647 | Val Loss: 0.9827\n",
            "Pixel Accuracy: 0.9626\n",
            "Mean IoU: 0.5391\n",
            "Mean F1: 0.5449\n",
            "\n",
            " Epoch 17/30\n"
          ]
        },
        {
          "name": "stderr",
          "output_type": "stream",
          "text": [
            ""
          ]
        },
        {
          "name": "stdout",
          "output_type": "stream",
          "text": [
            "Train Loss: 0.6614 | Val Loss: 0.9828\n",
            "Pixel Accuracy: 0.9626\n",
            "Mean IoU: 0.5400\n",
            "Mean F1: 0.5458\n",
            "\n",
            " Epoch 18/30\n"
          ]
        },
        {
          "name": "stderr",
          "output_type": "stream",
          "text": [
            "                                                           "
          ]
        },
        {
          "name": "stdout",
          "output_type": "stream",
          "text": [
            "Train Loss: 0.6614 | Val Loss: 0.9829\n",
            "Pixel Accuracy: 0.9626\n",
            "Mean IoU: 0.5400\n",
            "Mean F1: 0.5457\n",
            "Early stopping triggered.\n"
          ]
        },
        {
          "name": "stderr",
          "output_type": "stream",
          "text": [
            "\r"
          ]
        }
      ],
      "source": [
        "loss_fn = CombinedLoss()\n",
        "optimizer = torch.optim.AdamW(model.parameters(), lr=LEARNING_RATE, betas=(Beta1, Beta2), weight_decay=WEIGHT_Decay)\n",
        "\n",
        "scheduler = torch.optim.lr_scheduler.ReduceLROnPlateau(optimizer, patience=lrS_patience, factor=lrS_factor, verbose=True)\n",
        "\n",
        "best_miou = 0\n",
        "patience_counter = 0\n",
        "\n",
        "history = {\n",
        "    \"train_loss\": [],\n",
        "    \"val_loss\": [],\n",
        "    \"val_pixel_acc\": [],\n",
        "    \"val_miou\": [],\n",
        "    \"val_f1\": []\n",
        "}\n",
        "\n",
        "for epoch in range(1, EPOCHS + 1):\n",
        "    print(f\"\\n Epoch {epoch}/{EPOCHS}\")\n",
        "\n",
        "    train_loss = train_one_epoch(model, train_loader, optimizer, loss_fn)\n",
        "    val_loss, val_metrics = validate_one_epoch(model, val_loader, loss_fn)\n",
        "\n",
        "    print(f\"Train Loss: {train_loss:.4f} | Val Loss: {val_loss:.4f}\")\n",
        "    for k, v in val_metrics.items():\n",
        "        print(f\"{k}: {v:.4f}\")\n",
        "\n",
        "    scheduler.step(val_loss)\n",
        "\n",
        "    # Save history\n",
        "    history[\"train_loss\"].append(train_loss)\n",
        "    history[\"val_loss\"].append(val_loss)\n",
        "    history[\"val_pixel_acc\"].append(val_metrics[\"Pixel Accuracy\"])\n",
        "    history[\"val_miou\"].append(val_metrics[\"Mean IoU\"])\n",
        "    history[\"val_f1\"].append(val_metrics[\"Mean F1\"])\n",
        "\n",
        "    # Save best model\n",
        "    if val_metrics[\"Mean IoU\"] > best_miou:\n",
        "        best_miou = val_metrics[\"Mean IoU\"]\n",
        "        torch.save(model.state_dict(), \"best_model.pth\")\n",
        "        print(\"Best model saved!\")\n",
        "        patience_counter = 0\n",
        "    else:\n",
        "        patience_counter += 1\n",
        "\n",
        "    if patience_counter >= PATIENCE:\n",
        "        print(\"Early stopping triggered.\")\n",
        "        break\n"
      ]
    },
    {
      "cell_type": "code",
      "execution_count": null,
      "metadata": {
        "colab": {
          "background_save": true
        },
        "id": "xAaiE3uu5F0H"
      },
      "outputs": [],
      "source": [
        "def plot_training_history(history):\n",
        "    epochs = range(1, len(history[\"train_loss\"]) + 1)\n",
        "\n",
        "    plt.figure(figsize=(18, 12))\n",
        "\n",
        "    # Train vs Val Loss\n",
        "    plt.subplot(2, 3, 1)\n",
        "    plt.plot(epochs, history[\"train_loss\"], label='Train Loss')\n",
        "    plt.plot(epochs, history[\"val_loss\"], label='Val Loss')\n",
        "    plt.title('Loss')\n",
        "    plt.xlabel('Epoch')\n",
        "    plt.ylabel('Loss')\n",
        "    plt.legend()\n",
        "\n",
        "    # Pixel Accuracy\n",
        "    plt.subplot(2, 3, 2)\n",
        "    plt.plot(epochs, history[\"val_pixel_acc\"], label='Pixel Accuracy')\n",
        "    plt.title('Pixel Accuracy')\n",
        "    plt.xlabel('Epoch')\n",
        "    plt.ylabel('Accuracy')\n",
        "    plt.legend()\n",
        "\n",
        "    # Mean IoU\n",
        "    plt.subplot(2, 3, 3)\n",
        "    plt.plot(epochs, history[\"val_miou\"], label='Mean IoU')\n",
        "    plt.title('Mean IoU')\n",
        "    plt.xlabel('Epoch')\n",
        "    plt.ylabel('IoU')\n",
        "    plt.legend()\n",
        "\n",
        "    # F1 Score\n",
        "    plt.subplot(2, 3, 5)\n",
        "    plt.plot(epochs, history[\"val_f1\"], label='F1 Score')\n",
        "    plt.title('F1 Score')\n",
        "    plt.xlabel('Epoch')\n",
        "    plt.ylabel('F1 Score')\n",
        "    plt.legend()\n",
        "\n",
        "    plt.tight_layout()\n",
        "    plt.show()"
      ]
    },
    {
      "cell_type": "code",
      "execution_count": null,
      "metadata": {
        "colab": {
          "background_save": true
        },
        "id": "2QC3rKyQ5F0H"
      },
      "outputs": [],
      "source": [
        "def class_mask_to_rgb(mask):\n",
        "    \"\"\"Convert a class-indexed mask to RGB.\"\"\"\n",
        "    h, w = mask.shape\n",
        "    rgb = np.zeros((h, w, 3), dtype=np.uint8)\n",
        "    for class_idx, color in class_to_rgb.items():\n",
        "        rgb[mask == class_idx] = color\n",
        "    return rgb"
      ]
    },
    {
      "cell_type": "code",
      "execution_count": null,
      "metadata": {
        "colab": {
          "background_save": true,
          "base_uri": "https://localhost:8080/",
          "height": 622
        },
        "id": "4yvOXyu-5F0H",
        "outputId": "b4ac61b2-c01c-44d3-c392-9e799c442fbe"
      },
      "outputs": [
        {
          "data": {
            "image/png": "[encoded data removed]",
            "text/plain": [
              "<Figure size 1800x1200 with 4 Axes>"
            ]
          },
          "metadata": {},
          "output_type": "display_data"
        }
      ],
      "source": [
        "# Plot training performance\n",
        "plot_training_history(history)"
      ]
    },
    {
      "cell_type": "code",
      "execution_count": null,
      "metadata": {
        "colab": {
          "background_save": true
        },
        "id": "Z5S61dBh5F0I"
      },
      "outputs": [],
      "source": [
        "def calculate_iou_and_f1(pred, target, num_classes=NUM_CLASSES):\n",
        "    ious = []\n",
        "    f1s = []\n",
        "    for cls in range(num_classes):\n",
        "        pred_cls = (pred == cls)\n",
        "        target_cls = (target == cls)\n",
        "        intersection = np.logical_and(pred_cls, target_cls).sum()\n",
        "        union = np.logical_or(pred_cls, target_cls).sum()\n",
        "        if union == 0:\n",
        "            iou = float('nan')\n",
        "        else:\n",
        "            iou = intersection / union\n",
        "        f1 = (2 * intersection) / (pred_cls.sum() + target_cls.sum() + 1e-6)\n",
        "        ious.append(iou)\n",
        "        f1s.append(f1)\n",
        "    return np.nanmean(ious), np.nanmean(f1s)\n",
        "\n",
        "\n",
        "def visualize_predictions(model, dataset, num_samples):\n",
        "    model.eval()\n",
        "    indices = random.sample(range(len(dataset)), num_samples)\n",
        "\n",
        "    plt.figure(figsize=(15, num_samples * 3))\n",
        "\n",
        "    for i, idx in enumerate(indices):\n",
        "        img, gt_mask = dataset[idx]\n",
        "        img_input = img.unsqueeze(0).to(DEVICE)\n",
        "\n",
        "        with torch.no_grad():\n",
        "            output = model(pixel_values=img_input).logits\n",
        "            output = torch.nn.functional.interpolate(output, size=gt_mask.shape, mode='bilinear', align_corners=False)\n",
        "            pred_mask = torch.argmax(output.squeeze(), dim=0).cpu().numpy()\n",
        "\n",
        "        # Compute metrics\n",
        "        mean_iou, f1 = calculate_iou_and_f1(pred_mask, gt_mask.numpy())\n",
        "\n",
        "        # Convert to RGB\n",
        "        rgb_gt = class_mask_to_rgb(gt_mask.numpy())\n",
        "        rgb_pred = class_mask_to_rgb(pred_mask)\n",
        "        img_np = img.permute(1, 2, 0).cpu().numpy()\n",
        "        img_np = (img_np * [0.229, 0.224, 0.225]) + [0.485, 0.456, 0.406]\n",
        "        img_np = np.clip(img_np * 255, 0, 255).astype(np.uint8)\n",
        "\n",
        "        # Show row\n",
        "        plt.subplot(num_samples, 3, i * 3 + 1)\n",
        "        plt.imshow(img_np)\n",
        "        plt.title(\"Input Image\")\n",
        "        plt.axis(\"off\")\n",
        "\n",
        "        plt.subplot(num_samples, 3, i * 3 + 2)\n",
        "        plt.imshow(rgb_gt)\n",
        "        plt.title(\"Ground Truth\")\n",
        "        plt.axis(\"off\")\n",
        "\n",
        "        plt.subplot(num_samples, 3, i * 3 + 3)\n",
        "        plt.imshow(rgb_pred)\n",
        "        plt.title(f\"Prediction\\nF1: {f1:.2f} | IoU: {mean_iou:.2f}\")\n",
        "        plt.axis(\"off\")\n",
        "\n",
        "    plt.tight_layout()\n",
        "    plt.show()"
      ]
    },
    {
      "cell_type": "code",
      "execution_count": null,
      "metadata": {
        "id": "mfOdFWJY5F0I"
      },
      "outputs": [],
      "source": [
        "# Show predictions\n",
        "visualize_predictions(model, val_dataset, num_samples=20)"
      ]
    }
  ],
  "metadata": {
    "accelerator": "GPU",
    "colab": {
      "gpuType": "T4",
      "provenance": [],
      "toc_visible": true
    },
    "kaggle": {
      "accelerator": "none",
      "dataSources": [
        {
          "datasetId": 681625,
          "sourceId": 1196732,
          "sourceType": "datasetVersion"
        },
        {
          "datasetId": 966962,
          "sourceId": 1635643,
          "sourceType": "datasetVersion"
        }
      ],
      "dockerImageVersionId": 31012,
      "isGpuEnabled": false,
      "isInternetEnabled": false,
      "language": "python",
      "sourceType": "notebook"
    },
    "kernelspec": {
      "display_name": "Python 3",
      "name": "python3"
    },
    "language_info": {
      "codemirror_mode": {
        "name": "ipython",
        "version": 3
      },
      "file_extension": ".py",
      "mimetype": "text/x-python",
      "name": "python",
      "nbconvert_exporter": "python",
      "pygments_lexer": "ipython3",
      "version": "3.11.11"
    },
    "widgets": {
      "application/vnd.jupyter.widget-state+json": {
        "0189c40a9b1b4ba1ba3563aaf04d7b7f": {
          "model_module": "@jupyter-widgets/base",
          "model_module_version": "1.2.0",
          "model_name": "LayoutModel",
          "state": {
            "_model_module": "@jupyter-widgets/base",
            "_model_module_version": "1.2.0",
            "_model_name": "LayoutModel",
            "_view_count": null,
            "_view_module": "@jupyter-widgets/base",
            "_view_module_version": "1.2.0",
            "_view_name": "LayoutView",
            "align_content": null,
            "align_items": null,
            "align_self": null,
            "border": null,
            "bottom": null,
            "display": null,
            "flex": null,
            "flex_flow": null,
            "grid_area": null,
            "grid_auto_columns": null,
            "grid_auto_flow": null,
            "grid_auto_rows": null,
            "grid_column": null,
            "grid_gap": null,
            "grid_row": null,
            "grid_template_areas": null,
            "grid_template_columns": null,
            "grid_template_rows": null,
            "height": null,
            "justify_content": null,
            "justify_items": null,
            "left": null,
            "margin": null,
            "max_height": null,
            "max_width": null,
            "min_height": null,
            "min_width": null,
            "object_fit": null,
            "object_position": null,
            "order": null,
            "overflow": null,
            "overflow_x": null,
            "overflow_y": null,
            "padding": null,
            "right": null,
            "top": null,
            "visibility": null,
            "width": null
          }
        },
        "0498ffcfb74f449b8ca4ba7f109d0264": {
          "model_module": "@jupyter-widgets/controls",
          "model_module_version": "1.5.0",
          "model_name": "DescriptionStyleModel",
          "state": {
            "_model_module": "@jupyter-widgets/controls",
            "_model_module_version": "1.5.0",
            "_model_name": "DescriptionStyleModel",
            "_view_count": null,
            "_view_module": "@jupyter-widgets/base",
            "_view_module_version": "1.2.0",
            "_view_name": "StyleView",
            "description_width": ""
          }
        },
        "0b119ab74b1742439ed77e2832ab8179": {
          "model_module": "@jupyter-widgets/base",
          "model_module_version": "1.2.0",
          "model_name": "LayoutModel",
          "state": {
            "_model_module": "@jupyter-widgets/base",
            "_model_module_version": "1.2.0",
            "_model_name": "LayoutModel",
            "_view_count": null,
            "_view_module": "@jupyter-widgets/base",
            "_view_module_version": "1.2.0",
            "_view_name": "LayoutView",
            "align_content": null,
            "align_items": null,
            "align_self": null,
            "border": null,
            "bottom": null,
            "display": null,
            "flex": null,
            "flex_flow": null,
            "grid_area": null,
            "grid_auto_columns": null,
            "grid_auto_flow": null,
            "grid_auto_rows": null,
            "grid_column": null,
            "grid_gap": null,
            "grid_row": null,
            "grid_template_areas": null,
            "grid_template_columns": null,
            "grid_template_rows": null,
            "height": null,
            "justify_content": null,
            "justify_items": null,
            "left": null,
            "margin": null,
            "max_height": null,
            "max_width": null,
            "min_height": null,
            "min_width": null,
            "object_fit": null,
            "object_position": null,
            "order": null,
            "overflow": null,
            "overflow_x": null,
            "overflow_y": null,
            "padding": null,
            "right": null,
            "top": null,
            "visibility": null,
            "width": null
          }
        },
        "0e5bc09338864b00aaa55100a322d6f2": {
          "model_module": "@jupyter-widgets/controls",
          "model_module_version": "1.5.0",
          "model_name": "FloatProgressModel",
          "state": {
            "_dom_classes": [],
            "_model_module": "@jupyter-widgets/controls",
            "_model_module_version": "1.5.0",
            "_model_name": "FloatProgressModel",
            "_view_count": null,
            "_view_module": "@jupyter-widgets/controls",
            "_view_module_version": "1.5.0",
            "_view_name": "ProgressView",
            "bar_style": "success",
            "description": "",
            "description_tooltip": null,
            "layout": "IPY_MODEL_521eb9e6dffb46d1a6f4912b2702efba",
            "max": 256118660,
            "min": 0,
            "orientation": "horizontal",
            "style": "IPY_MODEL_2495c767c9424f7ba596d3dc3b88c50c",
            "value": 256118660
          }
        },
        "2094aa793068402d9911f69bdf640b49": {
          "model_module": "@jupyter-widgets/base",
          "model_module_version": "1.2.0",
          "model_name": "LayoutModel",
          "state": {
            "_model_module": "@jupyter-widgets/base",
            "_model_module_version": "1.2.0",
            "_model_name": "LayoutModel",
            "_view_count": null,
            "_view_module": "@jupyter-widgets/base",
            "_view_module_version": "1.2.0",
            "_view_name": "LayoutView",
            "align_content": null,
            "align_items": null,
            "align_self": null,
            "border": null,
            "bottom": null,
            "display": null,
            "flex": null,
            "flex_flow": null,
            "grid_area": null,
            "grid_auto_columns": null,
            "grid_auto_flow": null,
            "grid_auto_rows": null,
            "grid_column": null,
            "grid_gap": null,
            "grid_row": null,
            "grid_template_areas": null,
            "grid_template_columns": null,
            "grid_template_rows": null,
            "height": null,
            "justify_content": null,
            "justify_items": null,
            "left": null,
            "margin": null,
            "max_height": null,
            "max_width": null,
            "min_height": null,
            "min_width": null,
            "object_fit": null,
            "object_position": null,
            "order": null,
            "overflow": null,
            "overflow_x": null,
            "overflow_y": null,
            "padding": null,
            "right": null,
            "top": null,
            "visibility": null,
            "width": null
          }
        },
        "2495c767c9424f7ba596d3dc3b88c50c": {
          "model_module": "@jupyter-widgets/controls",
          "model_module_version": "1.5.0",
          "model_name": "ProgressStyleModel",
          "state": {
            "_model_module": "@jupyter-widgets/controls",
            "_model_module_version": "1.5.0",
            "_model_name": "ProgressStyleModel",
            "_view_count": null,
            "_view_module": "@jupyter-widgets/base",
            "_view_module_version": "1.2.0",
            "_view_name": "StyleView",
            "bar_color": null,
            "description_width": ""
          }
        },
        "2856a48c259e44f2827994e972a42c2d": {
          "model_module": "@jupyter-widgets/controls",
          "model_module_version": "1.5.0",
          "model_name": "DescriptionStyleModel",
          "state": {
            "_model_module": "@jupyter-widgets/controls",
            "_model_module_version": "1.5.0",
            "_model_name": "DescriptionStyleModel",
            "_view_count": null,
            "_view_module": "@jupyter-widgets/base",
            "_view_module_version": "1.2.0",
            "_view_name": "StyleView",
            "description_width": ""
          }
        },
        "29ecc660b43e41e88af31deedcf468bb": {
          "model_module": "@jupyter-widgets/controls",
          "model_module_version": "1.5.0",
          "model_name": "HBoxModel",
          "state": {
            "_dom_classes": [],
            "_model_module": "@jupyter-widgets/controls",
            "_model_module_version": "1.5.0",
            "_model_name": "HBoxModel",
            "_view_count": null,
            "_view_module": "@jupyter-widgets/controls",
            "_view_module_version": "1.5.0",
            "_view_name": "HBoxView",
            "box_style": "",
            "children": [
              "IPY_MODEL_44e53c59b75d4eafaa6b960317d55010",
              "IPY_MODEL_0e5bc09338864b00aaa55100a322d6f2",
              "IPY_MODEL_e5b11b5613944f28a7f54ce268370a2d"
            ],
            "layout": "IPY_MODEL_e4bdb7e856db40bba0e25a534b94605b"
          }
        },
        "2c19d48c9f31497e904e5238482915d0": {
          "model_module": "@jupyter-widgets/controls",
          "model_module_version": "1.5.0",
          "model_name": "HTMLModel",
          "state": {
            "_dom_classes": [],
            "_model_module": "@jupyter-widgets/controls",
            "_model_module_version": "1.5.0",
            "_model_name": "HTMLModel",
            "_view_count": null,
            "_view_module": "@jupyter-widgets/controls",
            "_view_module_version": "1.5.0",
            "_view_name": "HTMLView",
            "description": "",
            "description_tooltip": null,
            "layout": "IPY_MODEL_4706c4b9006c41fc99e26f5a5bcc8da2",
            "placeholder": "​",
            "style": "IPY_MODEL_93d74ab3d6154ca6a779ab6a2edbca44",
            "value": "config.json: "
          }
        },
        "309b5e03454049b7a66e0acf75fb96eb": {
          "model_module": "@jupyter-widgets/controls",
          "model_module_version": "1.5.0",
          "model_name": "HTMLModel",
          "state": {
            "_dom_classes": [],
            "_model_module": "@jupyter-widgets/controls",
            "_model_module_version": "1.5.0",
            "_model_name": "HTMLModel",
            "_view_count": null,
            "_view_module": "@jupyter-widgets/controls",
            "_view_module_version": "1.5.0",
            "_view_name": "HTMLView",
            "description": "",
            "description_tooltip": null,
            "layout": "IPY_MODEL_dae547bf8a254a2da99854244a93d8f9",
            "placeholder": "​",
            "style": "IPY_MODEL_6c59820bdab2436687ac67053efd5765",
            "value": " 1.44k/? [00:00&lt;00:00, 79.4kB/s]"
          }
        },
        "3451f6f958944a7486dd634cf84483cd": {
          "model_module": "@jupyter-widgets/controls",
          "model_module_version": "1.5.0",
          "model_name": "HTMLModel",
          "state": {
            "_dom_classes": [],
            "_model_module": "@jupyter-widgets/controls",
            "_model_module_version": "1.5.0",
            "_model_name": "HTMLModel",
            "_view_count": null,
            "_view_module": "@jupyter-widgets/controls",
            "_view_module_version": "1.5.0",
            "_view_name": "HTMLView",
            "description": "",
            "description_tooltip": null,
            "layout": "IPY_MODEL_39fbeaf6c7864166b3af45020ea0588c",
            "placeholder": "​",
            "style": "IPY_MODEL_a16692817fcc4c508bf35cd0a3f789c7",
            "value": "config.json: "
          }
        },
        "39fbeaf6c7864166b3af45020ea0588c": {
          "model_module": "@jupyter-widgets/base",
          "model_module_version": "1.2.0",
          "model_name": "LayoutModel",
          "state": {
            "_model_module": "@jupyter-widgets/base",
            "_model_module_version": "1.2.0",
            "_model_name": "LayoutModel",
            "_view_count": null,
            "_view_module": "@jupyter-widgets/base",
            "_view_module_version": "1.2.0",
            "_view_name": "LayoutView",
            "align_content": null,
            "align_items": null,
            "align_self": null,
            "border": null,
            "bottom": null,
            "display": null,
            "flex": null,
            "flex_flow": null,
            "grid_area": null,
            "grid_auto_columns": null,
            "grid_auto_flow": null,
            "grid_auto_rows": null,
            "grid_column": null,
            "grid_gap": null,
            "grid_row": null,
            "grid_template_areas": null,
            "grid_template_columns": null,
            "grid_template_rows": null,
            "height": null,
            "justify_content": null,
            "justify_items": null,
            "left": null,
            "margin": null,
            "max_height": null,
            "max_width": null,
            "min_height": null,
            "min_width": null,
            "object_fit": null,
            "object_position": null,
            "order": null,
            "overflow": null,
            "overflow_x": null,
            "overflow_y": null,
            "padding": null,
            "right": null,
            "top": null,
            "visibility": null,
            "width": null
          }
        },
        "3accbacec02042bb81397f5bdc6639ea": {
          "model_module": "@jupyter-widgets/base",
          "model_module_version": "1.2.0",
          "model_name": "LayoutModel",
          "state": {
            "_model_module": "@jupyter-widgets/base",
            "_model_module_version": "1.2.0",
            "_model_name": "LayoutModel",
            "_view_count": null,
            "_view_module": "@jupyter-widgets/base",
            "_view_module_version": "1.2.0",
            "_view_name": "LayoutView",
            "align_content": null,
            "align_items": null,
            "align_self": null,
            "border": null,
            "bottom": null,
            "display": null,
            "flex": null,
            "flex_flow": null,
            "grid_area": null,
            "grid_auto_columns": null,
            "grid_auto_flow": null,
            "grid_auto_rows": null,
            "grid_column": null,
            "grid_gap": null,
            "grid_row": null,
            "grid_template_areas": null,
            "grid_template_columns": null,
            "grid_template_rows": null,
            "height": null,
            "justify_content": null,
            "justify_items": null,
            "left": null,
            "margin": null,
            "max_height": null,
            "max_width": null,
            "min_height": null,
            "min_width": null,
            "object_fit": null,
            "object_position": null,
            "order": null,
            "overflow": null,
            "overflow_x": null,
            "overflow_y": null,
            "padding": null,
            "right": null,
            "top": null,
            "visibility": null,
            "width": "20px"
          }
        },
        "3df66117d0c94571b8bcc22a5abded48": {
          "model_module": "@jupyter-widgets/base",
          "model_module_version": "1.2.0",
          "model_name": "LayoutModel",
          "state": {
            "_model_module": "@jupyter-widgets/base",
            "_model_module_version": "1.2.0",
            "_model_name": "LayoutModel",
            "_view_count": null,
            "_view_module": "@jupyter-widgets/base",
            "_view_module_version": "1.2.0",
            "_view_name": "LayoutView",
            "align_content": null,
            "align_items": null,
            "align_self": null,
            "border": null,
            "bottom": null,
            "display": null,
            "flex": null,
            "flex_flow": null,
            "grid_area": null,
            "grid_auto_columns": null,
            "grid_auto_flow": null,
            "grid_auto_rows": null,
            "grid_column": null,
            "grid_gap": null,
            "grid_row": null,
            "grid_template_areas": null,
            "grid_template_columns": null,
            "grid_template_rows": null,
            "height": null,
            "justify_content": null,
            "justify_items": null,
            "left": null,
            "margin": null,
            "max_height": null,
            "max_width": null,
            "min_height": null,
            "min_width": null,
            "object_fit": null,
            "object_position": null,
            "order": null,
            "overflow": null,
            "overflow_x": null,
            "overflow_y": null,
            "padding": null,
            "right": null,
            "top": null,
            "visibility": null,
            "width": null
          }
        },
        "3e5771bac1fc494f987ebaa7d9823744": {
          "model_module": "@jupyter-widgets/controls",
          "model_module_version": "1.5.0",
          "model_name": "DescriptionStyleModel",
          "state": {
            "_model_module": "@jupyter-widgets/controls",
            "_model_module_version": "1.5.0",
            "_model_name": "DescriptionStyleModel",
            "_view_count": null,
            "_view_module": "@jupyter-widgets/base",
            "_view_module_version": "1.2.0",
            "_view_name": "StyleView",
            "description_width": ""
          }
        },
        "3eaf2a0b23a34e1b86f184a3a33bb0e8": {
          "model_module": "@jupyter-widgets/controls",
          "model_module_version": "1.5.0",
          "model_name": "ProgressStyleModel",
          "state": {
            "_model_module": "@jupyter-widgets/controls",
            "_model_module_version": "1.5.0",
            "_model_name": "ProgressStyleModel",
            "_view_count": null,
            "_view_module": "@jupyter-widgets/base",
            "_view_module_version": "1.2.0",
            "_view_name": "StyleView",
            "bar_color": null,
            "description_width": ""
          }
        },
        "44e53c59b75d4eafaa6b960317d55010": {
          "model_module": "@jupyter-widgets/controls",
          "model_module_version": "1.5.0",
          "model_name": "HTMLModel",
          "state": {
            "_dom_classes": [],
            "_model_module": "@jupyter-widgets/controls",
            "_model_module_version": "1.5.0",
            "_model_name": "HTMLModel",
            "_view_count": null,
            "_view_module": "@jupyter-widgets/controls",
            "_view_module_version": "1.5.0",
            "_view_name": "HTMLView",
            "description": "",
            "description_tooltip": null,
            "layout": "IPY_MODEL_ec78ce1f1d9d4763abde5ab9810c5c64",
            "placeholder": "​",
            "style": "IPY_MODEL_53eab53dfaeb415cb69a575f44a201a4",
            "value": "model.safetensors: 100%"
          }
        },
        "4706c4b9006c41fc99e26f5a5bcc8da2": {
          "model_module": "@jupyter-widgets/base",
          "model_module_version": "1.2.0",
          "model_name": "LayoutModel",
          "state": {
            "_model_module": "@jupyter-widgets/base",
            "_model_module_version": "1.2.0",
            "_model_name": "LayoutModel",
            "_view_count": null,
            "_view_module": "@jupyter-widgets/base",
            "_view_module_version": "1.2.0",
            "_view_name": "LayoutView",
            "align_content": null,
            "align_items": null,
            "align_self": null,
            "border": null,
            "bottom": null,
            "display": null,
            "flex": null,
            "flex_flow": null,
            "grid_area": null,
            "grid_auto_columns": null,
            "grid_auto_flow": null,
            "grid_auto_rows": null,
            "grid_column": null,
            "grid_gap": null,
            "grid_row": null,
            "grid_template_areas": null,
            "grid_template_columns": null,
            "grid_template_rows": null,
            "height": null,
            "justify_content": null,
            "justify_items": null,
            "left": null,
            "margin": null,
            "max_height": null,
            "max_width": null,
            "min_height": null,
            "min_width": null,
            "object_fit": null,
            "object_position": null,
            "order": null,
            "overflow": null,
            "overflow_x": null,
            "overflow_y": null,
            "padding": null,
            "right": null,
            "top": null,
            "visibility": null,
            "width": null
          }
        },
        "521eb9e6dffb46d1a6f4912b2702efba": {
          "model_module": "@jupyter-widgets/base",
          "model_module_version": "1.2.0",
          "model_name": "LayoutModel",
          "state": {
            "_model_module": "@jupyter-widgets/base",
            "_model_module_version": "1.2.0",
            "_model_name": "LayoutModel",
            "_view_count": null,
            "_view_module": "@jupyter-widgets/base",
            "_view_module_version": "1.2.0",
            "_view_name": "LayoutView",
            "align_content": null,
            "align_items": null,
            "align_self": null,
            "border": null,
            "bottom": null,
            "display": null,
            "flex": null,
            "flex_flow": null,
            "grid_area": null,
            "grid_auto_columns": null,
            "grid_auto_flow": null,
            "grid_auto_rows": null,
            "grid_column": null,
            "grid_gap": null,
            "grid_row": null,
            "grid_template_areas": null,
            "grid_template_columns": null,
            "grid_template_rows": null,
            "height": null,
            "justify_content": null,
            "justify_items": null,
            "left": null,
            "margin": null,
            "max_height": null,
            "max_width": null,
            "min_height": null,
            "min_width": null,
            "object_fit": null,
            "object_position": null,
            "order": null,
            "overflow": null,
            "overflow_x": null,
            "overflow_y": null,
            "padding": null,
            "right": null,
            "top": null,
            "visibility": null,
            "width": null
          }
        },
        "53eab53dfaeb415cb69a575f44a201a4": {
          "model_module": "@jupyter-widgets/controls",
          "model_module_version": "1.5.0",
          "model_name": "DescriptionStyleModel",
          "state": {
            "_model_module": "@jupyter-widgets/controls",
            "_model_module_version": "1.5.0",
            "_model_name": "DescriptionStyleModel",
            "_view_count": null,
            "_view_module": "@jupyter-widgets/base",
            "_view_module_version": "1.2.0",
            "_view_name": "StyleView",
            "description_width": ""
          }
        },
        "552644e6402f44e2a85b3d88e8893af3": {
          "model_module": "@jupyter-widgets/controls",
          "model_module_version": "1.5.0",
          "model_name": "ProgressStyleModel",
          "state": {
            "_model_module": "@jupyter-widgets/controls",
            "_model_module_version": "1.5.0",
            "_model_name": "ProgressStyleModel",
            "_view_count": null,
            "_view_module": "@jupyter-widgets/base",
            "_view_module_version": "1.2.0",
            "_view_name": "StyleView",
            "bar_color": null,
            "description_width": ""
          }
        },
        "56f1e6dd0f834899af7aa7d9e71dc9c5": {
          "model_module": "@jupyter-widgets/controls",
          "model_module_version": "1.5.0",
          "model_name": "HBoxModel",
          "state": {
            "_dom_classes": [],
            "_model_module": "@jupyter-widgets/controls",
            "_model_module_version": "1.5.0",
            "_model_name": "HBoxModel",
            "_view_count": null,
            "_view_module": "@jupyter-widgets/controls",
            "_view_module_version": "1.5.0",
            "_view_name": "HBoxView",
            "box_style": "",
            "children": [
              "IPY_MODEL_bb4a96e7e19943b88d3e061a473a772f",
              "IPY_MODEL_e28355f32a0a421abda397b1e09da4bb",
              "IPY_MODEL_c527754e1cd442c6874425a3fbe5b025"
            ],
            "layout": "IPY_MODEL_67fc9c02133e4dc7b2ff25a387299b64"
          }
        },
        "67fc9c02133e4dc7b2ff25a387299b64": {
          "model_module": "@jupyter-widgets/base",
          "model_module_version": "1.2.0",
          "model_name": "LayoutModel",
          "state": {
            "_model_module": "@jupyter-widgets/base",
            "_model_module_version": "1.2.0",
            "_model_name": "LayoutModel",
            "_view_count": null,
            "_view_module": "@jupyter-widgets/base",
            "_view_module_version": "1.2.0",
            "_view_name": "LayoutView",
            "align_content": null,
            "align_items": null,
            "align_self": null,
            "border": null,
            "bottom": null,
            "display": null,
            "flex": null,
            "flex_flow": null,
            "grid_area": null,
            "grid_auto_columns": null,
            "grid_auto_flow": null,
            "grid_auto_rows": null,
            "grid_column": null,
            "grid_gap": null,
            "grid_row": null,
            "grid_template_areas": null,
            "grid_template_columns": null,
            "grid_template_rows": null,
            "height": null,
            "justify_content": null,
            "justify_items": null,
            "left": null,
            "margin": null,
            "max_height": null,
            "max_width": null,
            "min_height": null,
            "min_width": null,
            "object_fit": null,
            "object_position": null,
            "order": null,
            "overflow": null,
            "overflow_x": null,
            "overflow_y": null,
            "padding": null,
            "right": null,
            "top": null,
            "visibility": null,
            "width": null
          }
        },
        "6c59820bdab2436687ac67053efd5765": {
          "model_module": "@jupyter-widgets/controls",
          "model_module_version": "1.5.0",
          "model_name": "DescriptionStyleModel",
          "state": {
            "_model_module": "@jupyter-widgets/controls",
            "_model_module_version": "1.5.0",
            "_model_name": "DescriptionStyleModel",
            "_view_count": null,
            "_view_module": "@jupyter-widgets/base",
            "_view_module_version": "1.2.0",
            "_view_name": "StyleView",
            "description_width": ""
          }
        },
        "867396a6711d4697b746b1139db71eaf": {
          "model_module": "@jupyter-widgets/base",
          "model_module_version": "1.2.0",
          "model_name": "LayoutModel",
          "state": {
            "_model_module": "@jupyter-widgets/base",
            "_model_module_version": "1.2.0",
            "_model_name": "LayoutModel",
            "_view_count": null,
            "_view_module": "@jupyter-widgets/base",
            "_view_module_version": "1.2.0",
            "_view_name": "LayoutView",
            "align_content": null,
            "align_items": null,
            "align_self": null,
            "border": null,
            "bottom": null,
            "display": null,
            "flex": null,
            "flex_flow": null,
            "grid_area": null,
            "grid_auto_columns": null,
            "grid_auto_flow": null,
            "grid_auto_rows": null,
            "grid_column": null,
            "grid_gap": null,
            "grid_row": null,
            "grid_template_areas": null,
            "grid_template_columns": null,
            "grid_template_rows": null,
            "height": null,
            "justify_content": null,
            "justify_items": null,
            "left": null,
            "margin": null,
            "max_height": null,
            "max_width": null,
            "min_height": null,
            "min_width": null,
            "object_fit": null,
            "object_position": null,
            "order": null,
            "overflow": null,
            "overflow_x": null,
            "overflow_y": null,
            "padding": null,
            "right": null,
            "top": null,
            "visibility": null,
            "width": null
          }
        },
        "88e82c7d643f4304a5478f167fb9f125": {
          "model_module": "@jupyter-widgets/controls",
          "model_module_version": "1.5.0",
          "model_name": "FloatProgressModel",
          "state": {
            "_dom_classes": [],
            "_model_module": "@jupyter-widgets/controls",
            "_model_module_version": "1.5.0",
            "_model_name": "FloatProgressModel",
            "_view_count": null,
            "_view_module": "@jupyter-widgets/controls",
            "_view_module_version": "1.5.0",
            "_view_name": "ProgressView",
            "bar_style": "success",
            "description": "",
            "description_tooltip": null,
            "layout": "IPY_MODEL_3accbacec02042bb81397f5bdc6639ea",
            "max": 1,
            "min": 0,
            "orientation": "horizontal",
            "style": "IPY_MODEL_adf98be12abe43ba8db1b49fdc1b37a4",
            "value": 1
          }
        },
        "8d510d075b0b486ab1d26896314f3685": {
          "model_module": "@jupyter-widgets/base",
          "model_module_version": "1.2.0",
          "model_name": "LayoutModel",
          "state": {
            "_model_module": "@jupyter-widgets/base",
            "_model_module_version": "1.2.0",
            "_model_name": "LayoutModel",
            "_view_count": null,
            "_view_module": "@jupyter-widgets/base",
            "_view_module_version": "1.2.0",
            "_view_name": "LayoutView",
            "align_content": null,
            "align_items": null,
            "align_self": null,
            "border": null,
            "bottom": null,
            "display": null,
            "flex": null,
            "flex_flow": null,
            "grid_area": null,
            "grid_auto_columns": null,
            "grid_auto_flow": null,
            "grid_auto_rows": null,
            "grid_column": null,
            "grid_gap": null,
            "grid_row": null,
            "grid_template_areas": null,
            "grid_template_columns": null,
            "grid_template_rows": null,
            "height": null,
            "justify_content": null,
            "justify_items": null,
            "left": null,
            "margin": null,
            "max_height": null,
            "max_width": null,
            "min_height": null,
            "min_width": null,
            "object_fit": null,
            "object_position": null,
            "order": null,
            "overflow": null,
            "overflow_x": null,
            "overflow_y": null,
            "padding": null,
            "right": null,
            "top": null,
            "visibility": null,
            "width": null
          }
        },
        "90f4fd42aa234b238be3348ea026f4fa": {
          "model_module": "@jupyter-widgets/controls",
          "model_module_version": "1.5.0",
          "model_name": "HTMLModel",
          "state": {
            "_dom_classes": [],
            "_model_module": "@jupyter-widgets/controls",
            "_model_module_version": "1.5.0",
            "_model_name": "HTMLModel",
            "_view_count": null,
            "_view_module": "@jupyter-widgets/controls",
            "_view_module_version": "1.5.0",
            "_view_name": "HTMLView",
            "description": "",
            "description_tooltip": null,
            "layout": "IPY_MODEL_da4b5a31fcf542309d784fda223df2a9",
            "placeholder": "​",
            "style": "IPY_MODEL_0498ffcfb74f449b8ca4ba7f109d0264",
            "value": "model.safetensors: 100%"
          }
        },
        "93d74ab3d6154ca6a779ab6a2edbca44": {
          "model_module": "@jupyter-widgets/controls",
          "model_module_version": "1.5.0",
          "model_name": "DescriptionStyleModel",
          "state": {
            "_model_module": "@jupyter-widgets/controls",
            "_model_module_version": "1.5.0",
            "_model_name": "DescriptionStyleModel",
            "_view_count": null,
            "_view_module": "@jupyter-widgets/base",
            "_view_module_version": "1.2.0",
            "_view_name": "StyleView",
            "description_width": ""
          }
        },
        "94e3fa0e70c24f0489637df508f9e0d3": {
          "model_module": "@jupyter-widgets/base",
          "model_module_version": "1.2.0",
          "model_name": "LayoutModel",
          "state": {
            "_model_module": "@jupyter-widgets/base",
            "_model_module_version": "1.2.0",
            "_model_name": "LayoutModel",
            "_view_count": null,
            "_view_module": "@jupyter-widgets/base",
            "_view_module_version": "1.2.0",
            "_view_name": "LayoutView",
            "align_content": null,
            "align_items": null,
            "align_self": null,
            "border": null,
            "bottom": null,
            "display": null,
            "flex": null,
            "flex_flow": null,
            "grid_area": null,
            "grid_auto_columns": null,
            "grid_auto_flow": null,
            "grid_auto_rows": null,
            "grid_column": null,
            "grid_gap": null,
            "grid_row": null,
            "grid_template_areas": null,
            "grid_template_columns": null,
            "grid_template_rows": null,
            "height": null,
            "justify_content": null,
            "justify_items": null,
            "left": null,
            "margin": null,
            "max_height": null,
            "max_width": null,
            "min_height": null,
            "min_width": null,
            "object_fit": null,
            "object_position": null,
            "order": null,
            "overflow": null,
            "overflow_x": null,
            "overflow_y": null,
            "padding": null,
            "right": null,
            "top": null,
            "visibility": null,
            "width": null
          }
        },
        "9dda03e39c164a3a8d0aa39bc4e27ba9": {
          "model_module": "@jupyter-widgets/controls",
          "model_module_version": "1.5.0",
          "model_name": "FloatProgressModel",
          "state": {
            "_dom_classes": [],
            "_model_module": "@jupyter-widgets/controls",
            "_model_module_version": "1.5.0",
            "_model_name": "FloatProgressModel",
            "_view_count": null,
            "_view_module": "@jupyter-widgets/controls",
            "_view_module_version": "1.5.0",
            "_view_name": "ProgressView",
            "bar_style": "success",
            "description": "",
            "description_tooltip": null,
            "layout": "IPY_MODEL_c6c9c008e9854c02aed799e5ba7af2bd",
            "max": 189435040,
            "min": 0,
            "orientation": "horizontal",
            "style": "IPY_MODEL_3eaf2a0b23a34e1b86f184a3a33bb0e8",
            "value": 189435040
          }
        },
        "9e600ce7f2194851931bf1b7d14cc2e8": {
          "model_module": "@jupyter-widgets/controls",
          "model_module_version": "1.5.0",
          "model_name": "HTMLModel",
          "state": {
            "_dom_classes": [],
            "_model_module": "@jupyter-widgets/controls",
            "_model_module_version": "1.5.0",
            "_model_name": "HTMLModel",
            "_view_count": null,
            "_view_module": "@jupyter-widgets/controls",
            "_view_module_version": "1.5.0",
            "_view_name": "HTMLView",
            "description": "",
            "description_tooltip": null,
            "layout": "IPY_MODEL_2094aa793068402d9911f69bdf640b49",
            "placeholder": "​",
            "style": "IPY_MODEL_bad054c39ad34a6899d455412126fdb6",
            "value": " 189M/189M [00:01&lt;00:00, 242MB/s]"
          }
        },
        "a15f9128cbac4612ac14523973fbfe53": {
          "model_module": "@jupyter-widgets/controls",
          "model_module_version": "1.5.0",
          "model_name": "ProgressStyleModel",
          "state": {
            "_model_module": "@jupyter-widgets/controls",
            "_model_module_version": "1.5.0",
            "_model_name": "ProgressStyleModel",
            "_view_count": null,
            "_view_module": "@jupyter-widgets/base",
            "_view_module_version": "1.2.0",
            "_view_name": "StyleView",
            "bar_color": null,
            "description_width": ""
          }
        },
        "a16692817fcc4c508bf35cd0a3f789c7": {
          "model_module": "@jupyter-widgets/controls",
          "model_module_version": "1.5.0",
          "model_name": "DescriptionStyleModel",
          "state": {
            "_model_module": "@jupyter-widgets/controls",
            "_model_module_version": "1.5.0",
            "_model_name": "DescriptionStyleModel",
            "_view_count": null,
            "_view_module": "@jupyter-widgets/base",
            "_view_module_version": "1.2.0",
            "_view_name": "StyleView",
            "description_width": ""
          }
        },
        "adf98be12abe43ba8db1b49fdc1b37a4": {
          "model_module": "@jupyter-widgets/controls",
          "model_module_version": "1.5.0",
          "model_name": "ProgressStyleModel",
          "state": {
            "_model_module": "@jupyter-widgets/controls",
            "_model_module_version": "1.5.0",
            "_model_name": "ProgressStyleModel",
            "_view_count": null,
            "_view_module": "@jupyter-widgets/base",
            "_view_module_version": "1.2.0",
            "_view_name": "StyleView",
            "bar_color": null,
            "description_width": ""
          }
        },
        "af62738370644e738ae5fba9f25edf8e": {
          "model_module": "@jupyter-widgets/base",
          "model_module_version": "1.2.0",
          "model_name": "LayoutModel",
          "state": {
            "_model_module": "@jupyter-widgets/base",
            "_model_module_version": "1.2.0",
            "_model_name": "LayoutModel",
            "_view_count": null,
            "_view_module": "@jupyter-widgets/base",
            "_view_module_version": "1.2.0",
            "_view_name": "LayoutView",
            "align_content": null,
            "align_items": null,
            "align_self": null,
            "border": null,
            "bottom": null,
            "display": null,
            "flex": null,
            "flex_flow": null,
            "grid_area": null,
            "grid_auto_columns": null,
            "grid_auto_flow": null,
            "grid_auto_rows": null,
            "grid_column": null,
            "grid_gap": null,
            "grid_row": null,
            "grid_template_areas": null,
            "grid_template_columns": null,
            "grid_template_rows": null,
            "height": null,
            "justify_content": null,
            "justify_items": null,
            "left": null,
            "margin": null,
            "max_height": null,
            "max_width": null,
            "min_height": null,
            "min_width": null,
            "object_fit": null,
            "object_position": null,
            "order": null,
            "overflow": null,
            "overflow_x": null,
            "overflow_y": null,
            "padding": null,
            "right": null,
            "top": null,
            "visibility": null,
            "width": null
          }
        },
        "bad054c39ad34a6899d455412126fdb6": {
          "model_module": "@jupyter-widgets/controls",
          "model_module_version": "1.5.0",
          "model_name": "DescriptionStyleModel",
          "state": {
            "_model_module": "@jupyter-widgets/controls",
            "_model_module_version": "1.5.0",
            "_model_name": "DescriptionStyleModel",
            "_view_count": null,
            "_view_module": "@jupyter-widgets/base",
            "_view_module_version": "1.2.0",
            "_view_name": "StyleView",
            "description_width": ""
          }
        },
        "bb4a96e7e19943b88d3e061a473a772f": {
          "model_module": "@jupyter-widgets/controls",
          "model_module_version": "1.5.0",
          "model_name": "HTMLModel",
          "state": {
            "_dom_classes": [],
            "_model_module": "@jupyter-widgets/controls",
            "_model_module_version": "1.5.0",
            "_model_name": "HTMLModel",
            "_view_count": null,
            "_view_module": "@jupyter-widgets/controls",
            "_view_module_version": "1.5.0",
            "_view_name": "HTMLView",
            "description": "",
            "description_tooltip": null,
            "layout": "IPY_MODEL_8d510d075b0b486ab1d26896314f3685",
            "placeholder": "​",
            "style": "IPY_MODEL_3e5771bac1fc494f987ebaa7d9823744",
            "value": "pytorch_model.bin: 100%"
          }
        },
        "bf25ca02608645b290b7bed001209e5a": {
          "model_module": "@jupyter-widgets/controls",
          "model_module_version": "1.5.0",
          "model_name": "HTMLModel",
          "state": {
            "_dom_classes": [],
            "_model_module": "@jupyter-widgets/controls",
            "_model_module_version": "1.5.0",
            "_model_name": "HTMLModel",
            "_view_count": null,
            "_view_module": "@jupyter-widgets/controls",
            "_view_module_version": "1.5.0",
            "_view_name": "HTMLView",
            "description": "",
            "description_tooltip": null,
            "layout": "IPY_MODEL_3df66117d0c94571b8bcc22a5abded48",
            "placeholder": "​",
            "style": "IPY_MODEL_2856a48c259e44f2827994e972a42c2d",
            "value": " 6.89k/? [00:00&lt;00:00, 476kB/s]"
          }
        },
        "c0893bd41ec54584b004c1b7b3746d43": {
          "model_module": "@jupyter-widgets/controls",
          "model_module_version": "1.5.0",
          "model_name": "DescriptionStyleModel",
          "state": {
            "_model_module": "@jupyter-widgets/controls",
            "_model_module_version": "1.5.0",
            "_model_name": "DescriptionStyleModel",
            "_view_count": null,
            "_view_module": "@jupyter-widgets/base",
            "_view_module_version": "1.2.0",
            "_view_name": "StyleView",
            "description_width": ""
          }
        },
        "c527754e1cd442c6874425a3fbe5b025": {
          "model_module": "@jupyter-widgets/controls",
          "model_module_version": "1.5.0",
          "model_name": "HTMLModel",
          "state": {
            "_dom_classes": [],
            "_model_module": "@jupyter-widgets/controls",
            "_model_module_version": "1.5.0",
            "_model_name": "HTMLModel",
            "_view_count": null,
            "_view_module": "@jupyter-widgets/controls",
            "_view_module_version": "1.5.0",
            "_view_name": "HTMLView",
            "description": "",
            "description_tooltip": null,
            "layout": "IPY_MODEL_d18c40972940495492606374604df66c",
            "placeholder": "​",
            "style": "IPY_MODEL_f4c97158fa3f43748cefe5da613f9ace",
            "value": " 190M/190M [00:01&lt;00:00, 220MB/s]"
          }
        },
        "c69f3deafd1b46869d5c8a1d53b41bda": {
          "model_module": "@jupyter-widgets/controls",
          "model_module_version": "1.5.0",
          "model_name": "HBoxModel",
          "state": {
            "_dom_classes": [],
            "_model_module": "@jupyter-widgets/controls",
            "_model_module_version": "1.5.0",
            "_model_name": "HBoxModel",
            "_view_count": null,
            "_view_module": "@jupyter-widgets/controls",
            "_view_module_version": "1.5.0",
            "_view_name": "HBoxView",
            "box_style": "",
            "children": [
              "IPY_MODEL_90f4fd42aa234b238be3348ea026f4fa",
              "IPY_MODEL_9dda03e39c164a3a8d0aa39bc4e27ba9",
              "IPY_MODEL_9e600ce7f2194851931bf1b7d14cc2e8"
            ],
            "layout": "IPY_MODEL_867396a6711d4697b746b1139db71eaf"
          }
        },
        "c6c9c008e9854c02aed799e5ba7af2bd": {
          "model_module": "@jupyter-widgets/base",
          "model_module_version": "1.2.0",
          "model_name": "LayoutModel",
          "state": {
            "_model_module": "@jupyter-widgets/base",
            "_model_module_version": "1.2.0",
            "_model_name": "LayoutModel",
            "_view_count": null,
            "_view_module": "@jupyter-widgets/base",
            "_view_module_version": "1.2.0",
            "_view_name": "LayoutView",
            "align_content": null,
            "align_items": null,
            "align_self": null,
            "border": null,
            "bottom": null,
            "display": null,
            "flex": null,
            "flex_flow": null,
            "grid_area": null,
            "grid_auto_columns": null,
            "grid_auto_flow": null,
            "grid_auto_rows": null,
            "grid_column": null,
            "grid_gap": null,
            "grid_row": null,
            "grid_template_areas": null,
            "grid_template_columns": null,
            "grid_template_rows": null,
            "height": null,
            "justify_content": null,
            "justify_items": null,
            "left": null,
            "margin": null,
            "max_height": null,
            "max_width": null,
            "min_height": null,
            "min_width": null,
            "object_fit": null,
            "object_position": null,
            "order": null,
            "overflow": null,
            "overflow_x": null,
            "overflow_y": null,
            "padding": null,
            "right": null,
            "top": null,
            "visibility": null,
            "width": null
          }
        },
        "d18c40972940495492606374604df66c": {
          "model_module": "@jupyter-widgets/base",
          "model_module_version": "1.2.0",
          "model_name": "LayoutModel",
          "state": {
            "_model_module": "@jupyter-widgets/base",
            "_model_module_version": "1.2.0",
            "_model_name": "LayoutModel",
            "_view_count": null,
            "_view_module": "@jupyter-widgets/base",
            "_view_module_version": "1.2.0",
            "_view_name": "LayoutView",
            "align_content": null,
            "align_items": null,
            "align_self": null,
            "border": null,
            "bottom": null,
            "display": null,
            "flex": null,
            "flex_flow": null,
            "grid_area": null,
            "grid_auto_columns": null,
            "grid_auto_flow": null,
            "grid_auto_rows": null,
            "grid_column": null,
            "grid_gap": null,
            "grid_row": null,
            "grid_template_areas": null,
            "grid_template_columns": null,
            "grid_template_rows": null,
            "height": null,
            "justify_content": null,
            "justify_items": null,
            "left": null,
            "margin": null,
            "max_height": null,
            "max_width": null,
            "min_height": null,
            "min_width": null,
            "object_fit": null,
            "object_position": null,
            "order": null,
            "overflow": null,
            "overflow_x": null,
            "overflow_y": null,
            "padding": null,
            "right": null,
            "top": null,
            "visibility": null,
            "width": null
          }
        },
        "d585675aed874ea1ac096263d69d4701": {
          "model_module": "@jupyter-widgets/base",
          "model_module_version": "1.2.0",
          "model_name": "LayoutModel",
          "state": {
            "_model_module": "@jupyter-widgets/base",
            "_model_module_version": "1.2.0",
            "_model_name": "LayoutModel",
            "_view_count": null,
            "_view_module": "@jupyter-widgets/base",
            "_view_module_version": "1.2.0",
            "_view_name": "LayoutView",
            "align_content": null,
            "align_items": null,
            "align_self": null,
            "border": null,
            "bottom": null,
            "display": null,
            "flex": null,
            "flex_flow": null,
            "grid_area": null,
            "grid_auto_columns": null,
            "grid_auto_flow": null,
            "grid_auto_rows": null,
            "grid_column": null,
            "grid_gap": null,
            "grid_row": null,
            "grid_template_areas": null,
            "grid_template_columns": null,
            "grid_template_rows": null,
            "height": null,
            "justify_content": null,
            "justify_items": null,
            "left": null,
            "margin": null,
            "max_height": null,
            "max_width": null,
            "min_height": null,
            "min_width": null,
            "object_fit": null,
            "object_position": null,
            "order": null,
            "overflow": null,
            "overflow_x": null,
            "overflow_y": null,
            "padding": null,
            "right": null,
            "top": null,
            "visibility": null,
            "width": "20px"
          }
        },
        "da4b5a31fcf542309d784fda223df2a9": {
          "model_module": "@jupyter-widgets/base",
          "model_module_version": "1.2.0",
          "model_name": "LayoutModel",
          "state": {
            "_model_module": "@jupyter-widgets/base",
            "_model_module_version": "1.2.0",
            "_model_name": "LayoutModel",
            "_view_count": null,
            "_view_module": "@jupyter-widgets/base",
            "_view_module_version": "1.2.0",
            "_view_name": "LayoutView",
            "align_content": null,
            "align_items": null,
            "align_self": null,
            "border": null,
            "bottom": null,
            "display": null,
            "flex": null,
            "flex_flow": null,
            "grid_area": null,
            "grid_auto_columns": null,
            "grid_auto_flow": null,
            "grid_auto_rows": null,
            "grid_column": null,
            "grid_gap": null,
            "grid_row": null,
            "grid_template_areas": null,
            "grid_template_columns": null,
            "grid_template_rows": null,
            "height": null,
            "justify_content": null,
            "justify_items": null,
            "left": null,
            "margin": null,
            "max_height": null,
            "max_width": null,
            "min_height": null,
            "min_width": null,
            "object_fit": null,
            "object_position": null,
            "order": null,
            "overflow": null,
            "overflow_x": null,
            "overflow_y": null,
            "padding": null,
            "right": null,
            "top": null,
            "visibility": null,
            "width": null
          }
        },
        "dae547bf8a254a2da99854244a93d8f9": {
          "model_module": "@jupyter-widgets/base",
          "model_module_version": "1.2.0",
          "model_name": "LayoutModel",
          "state": {
            "_model_module": "@jupyter-widgets/base",
            "_model_module_version": "1.2.0",
            "_model_name": "LayoutModel",
            "_view_count": null,
            "_view_module": "@jupyter-widgets/base",
            "_view_module_version": "1.2.0",
            "_view_name": "LayoutView",
            "align_content": null,
            "align_items": null,
            "align_self": null,
            "border": null,
            "bottom": null,
            "display": null,
            "flex": null,
            "flex_flow": null,
            "grid_area": null,
            "grid_auto_columns": null,
            "grid_auto_flow": null,
            "grid_auto_rows": null,
            "grid_column": null,
            "grid_gap": null,
            "grid_row": null,
            "grid_template_areas": null,
            "grid_template_columns": null,
            "grid_template_rows": null,
            "height": null,
            "justify_content": null,
            "justify_items": null,
            "left": null,
            "margin": null,
            "max_height": null,
            "max_width": null,
            "min_height": null,
            "min_width": null,
            "object_fit": null,
            "object_position": null,
            "order": null,
            "overflow": null,
            "overflow_x": null,
            "overflow_y": null,
            "padding": null,
            "right": null,
            "top": null,
            "visibility": null,
            "width": null
          }
        },
        "e28355f32a0a421abda397b1e09da4bb": {
          "model_module": "@jupyter-widgets/controls",
          "model_module_version": "1.5.0",
          "model_name": "FloatProgressModel",
          "state": {
            "_dom_classes": [],
            "_model_module": "@jupyter-widgets/controls",
            "_model_module_version": "1.5.0",
            "_model_name": "FloatProgressModel",
            "_view_count": null,
            "_view_module": "@jupyter-widgets/controls",
            "_view_module_version": "1.5.0",
            "_view_name": "ProgressView",
            "bar_style": "success",
            "description": "",
            "description_tooltip": null,
            "layout": "IPY_MODEL_94e3fa0e70c24f0489637df508f9e0d3",
            "max": 189607929,
            "min": 0,
            "orientation": "horizontal",
            "style": "IPY_MODEL_552644e6402f44e2a85b3d88e8893af3",
            "value": 189607929
          }
        },
        "e2ddedc654ee4efaa1f7252eab1bb9dc": {
          "model_module": "@jupyter-widgets/controls",
          "model_module_version": "1.5.0",
          "model_name": "HBoxModel",
          "state": {
            "_dom_classes": [],
            "_model_module": "@jupyter-widgets/controls",
            "_model_module_version": "1.5.0",
            "_model_name": "HBoxModel",
            "_view_count": null,
            "_view_module": "@jupyter-widgets/controls",
            "_view_module_version": "1.5.0",
            "_view_name": "HBoxView",
            "box_style": "",
            "children": [
              "IPY_MODEL_2c19d48c9f31497e904e5238482915d0",
              "IPY_MODEL_88e82c7d643f4304a5478f167fb9f125",
              "IPY_MODEL_bf25ca02608645b290b7bed001209e5a"
            ],
            "layout": "IPY_MODEL_0b119ab74b1742439ed77e2832ab8179"
          }
        },
        "e4bdb7e856db40bba0e25a534b94605b": {
          "model_module": "@jupyter-widgets/base",
          "model_module_version": "1.2.0",
          "model_name": "LayoutModel",
          "state": {
            "_model_module": "@jupyter-widgets/base",
            "_model_module_version": "1.2.0",
            "_model_name": "LayoutModel",
            "_view_count": null,
            "_view_module": "@jupyter-widgets/base",
            "_view_module_version": "1.2.0",
            "_view_name": "LayoutView",
            "align_content": null,
            "align_items": null,
            "align_self": null,
            "border": null,
            "bottom": null,
            "display": null,
            "flex": null,
            "flex_flow": null,
            "grid_area": null,
            "grid_auto_columns": null,
            "grid_auto_flow": null,
            "grid_auto_rows": null,
            "grid_column": null,
            "grid_gap": null,
            "grid_row": null,
            "grid_template_areas": null,
            "grid_template_columns": null,
            "grid_template_rows": null,
            "height": null,
            "justify_content": null,
            "justify_items": null,
            "left": null,
            "margin": null,
            "max_height": null,
            "max_width": null,
            "min_height": null,
            "min_width": null,
            "object_fit": null,
            "object_position": null,
            "order": null,
            "overflow": null,
            "overflow_x": null,
            "overflow_y": null,
            "padding": null,
            "right": null,
            "top": null,
            "visibility": null,
            "width": null
          }
        },
        "e5b11b5613944f28a7f54ce268370a2d": {
          "model_module": "@jupyter-widgets/controls",
          "model_module_version": "1.5.0",
          "model_name": "HTMLModel",
          "state": {
            "_dom_classes": [],
            "_model_module": "@jupyter-widgets/controls",
            "_model_module_version": "1.5.0",
            "_model_name": "HTMLModel",
            "_view_count": null,
            "_view_module": "@jupyter-widgets/controls",
            "_view_module_version": "1.5.0",
            "_view_name": "HTMLView",
            "description": "",
            "description_tooltip": null,
            "layout": "IPY_MODEL_0189c40a9b1b4ba1ba3563aaf04d7b7f",
            "placeholder": "​",
            "style": "IPY_MODEL_c0893bd41ec54584b004c1b7b3746d43",
            "value": " 256M/256M [00:02&lt;00:00, 88.9MB/s]"
          }
        },
        "ec78ce1f1d9d4763abde5ab9810c5c64": {
          "model_module": "@jupyter-widgets/base",
          "model_module_version": "1.2.0",
          "model_name": "LayoutModel",
          "state": {
            "_model_module": "@jupyter-widgets/base",
            "_model_module_version": "1.2.0",
            "_model_name": "LayoutModel",
            "_view_count": null,
            "_view_module": "@jupyter-widgets/base",
            "_view_module_version": "1.2.0",
            "_view_name": "LayoutView",
            "align_content": null,
            "align_items": null,
            "align_self": null,
            "border": null,
            "bottom": null,
            "display": null,
            "flex": null,
            "flex_flow": null,
            "grid_area": null,
            "grid_auto_columns": null,
            "grid_auto_flow": null,
            "grid_auto_rows": null,
            "grid_column": null,
            "grid_gap": null,
            "grid_row": null,
            "grid_template_areas": null,
            "grid_template_columns": null,
            "grid_template_rows": null,
            "height": null,
            "justify_content": null,
            "justify_items": null,
            "left": null,
            "margin": null,
            "max_height": null,
            "max_width": null,
            "min_height": null,
            "min_width": null,
            "object_fit": null,
            "object_position": null,
            "order": null,
            "overflow": null,
            "overflow_x": null,
            "overflow_y": null,
            "padding": null,
            "right": null,
            "top": null,
            "visibility": null,
            "width": null
          }
        },
        "f43749dab50a4c25a3e1685d01a18ddc": {
          "model_module": "@jupyter-widgets/controls",
          "model_module_version": "1.5.0",
          "model_name": "HBoxModel",
          "state": {
            "_dom_classes": [],
            "_model_module": "@jupyter-widgets/controls",
            "_model_module_version": "1.5.0",
            "_model_name": "HBoxModel",
            "_view_count": null,
            "_view_module": "@jupyter-widgets/controls",
            "_view_module_version": "1.5.0",
            "_view_name": "HBoxView",
            "box_style": "",
            "children": [
              "IPY_MODEL_3451f6f958944a7486dd634cf84483cd",
              "IPY_MODEL_f9fbf8cee3a84439acb2cba17ffeb842",
              "IPY_MODEL_309b5e03454049b7a66e0acf75fb96eb"
            ],
            "layout": "IPY_MODEL_af62738370644e738ae5fba9f25edf8e"
          }
        },
        "f4c97158fa3f43748cefe5da613f9ace": {
          "model_module": "@jupyter-widgets/controls",
          "model_module_version": "1.5.0",
          "model_name": "DescriptionStyleModel",
          "state": {
            "_model_module": "@jupyter-widgets/controls",
            "_model_module_version": "1.5.0",
            "_model_name": "DescriptionStyleModel",
            "_view_count": null,
            "_view_module": "@jupyter-widgets/base",
            "_view_module_version": "1.2.0",
            "_view_name": "StyleView",
            "description_width": ""
          }
        },
        "f9fbf8cee3a84439acb2cba17ffeb842": {
          "model_module": "@jupyter-widgets/controls",
          "model_module_version": "1.5.0",
          "model_name": "FloatProgressModel",
          "state": {
            "_dom_classes": [],
            "_model_module": "@jupyter-widgets/controls",
            "_model_module_version": "1.5.0",
            "_model_name": "FloatProgressModel",
            "_view_count": null,
            "_view_module": "@jupyter-widgets/controls",
            "_view_module_version": "1.5.0",
            "_view_name": "ProgressView",
            "bar_style": "success",
            "description": "",
            "description_tooltip": null,
            "layout": "IPY_MODEL_d585675aed874ea1ac096263d69d4701",
            "max": 1,
            "min": 0,
            "orientation": "horizontal",
            "style": "IPY_MODEL_a15f9128cbac4612ac14523973fbfe53",
            "value": 1
          }
        }
      }
    }
  },
  "nbformat": 4,
  "nbformat_minor": 0
}